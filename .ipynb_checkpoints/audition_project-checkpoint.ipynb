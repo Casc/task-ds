{
 "cells": [
  {
   "cell_type": "code",
   "execution_count": 2,
   "metadata": {
    "collapsed": true
   },
   "outputs": [],
   "source": [
    "import unicodecsv"
   ]
  },
  {
   "cell_type": "markdown",
   "metadata": {},
   "source": [
    "**Loading data using unicodecsv library.**"
   ]
  },
  {
   "cell_type": "code",
   "execution_count": 5,
   "metadata": {
    "collapsed": false
   },
   "outputs": [
    {
     "name": "stdout",
     "output_type": "stream",
     "text": [
      "OrderedDict([('learner_id', '39'), ('country', 'PL'), ('in_course', 't'), ('unit', '1'), ('avg_score', '0.2'), ('completion', '0.1'), ('inv_rate', '0')])\n",
      "OrderedDict([('learner_id', '39'), ('country', 'PL'), ('in_course', 't'), ('unit', '3'), ('avg_score', '1'), ('completion', '0.087'), ('inv_rate', '0')])\n",
      "OrderedDict([('learner_id', '39'), ('country', 'PL'), ('in_course', 't'), ('unit', 'REVIEW 2'), ('avg_score', '0.1'), ('completion', '0.273'), ('inv_rate', '0')])\n",
      "OrderedDict([('learner_id', '41'), ('country', 'PL'), ('in_course', 't'), ('unit', '1'), ('avg_score', '0.877'), ('completion', '0.35'), ('inv_rate', '0.381')])\n",
      "OrderedDict([('learner_id', '41'), ('country', 'PL'), ('in_course', 't'), ('unit', '3'), ('avg_score', '0'), ('completion', '0.087'), ('inv_rate', '0')])\n"
     ]
    }
   ],
   "source": [
    "data = []\n",
    "my_file = open(\"data.csv\", \"rb\")\n",
    "reader = unicodecsv.DictReader(my_file)\n",
    "\n",
    "for row in reader:\n",
    "    data.append(row)\n",
    "    \n",
    "my_file.close()\n",
    "    \n",
    "    \n",
    "for i in range(0, 5):\n",
    "    print(data[i])"
   ]
  },
  {
   "cell_type": "markdown",
   "metadata": {
    "collapsed": true
   },
   "source": [
    "I think it may be useful to know the total number of students (student ids to be more precise)."
   ]
  },
  {
   "cell_type": "code",
   "execution_count": 11,
   "metadata": {
    "collapsed": false
   },
   "outputs": [
    {
     "name": "stdout",
     "output_type": "stream",
     "text": [
      "13158\n",
      "81432\n"
     ]
    }
   ],
   "source": [
    "id_set = set()\n",
    "for data_point in data:\n",
    "    id_set.add(data_point['learner_id'])\n",
    "    \n",
    "print (len(id_set))\n",
    "print (len(data))"
   ]
  },
  {
   "cell_type": "markdown",
   "metadata": {},
   "source": [
    "It will be also good to get the information about set of countries that students are from (and how many students from each country), how many courses are being taken with teacher or not, how many different units are there, so lets look into it:"
   ]
  },
  {
   "cell_type": "code",
   "execution_count": 15,
   "metadata": {
    "collapsed": false
   },
   "outputs": [
    {
     "name": "stdout",
     "output_type": "stream",
     "text": [
      "{'', 'NZ', 'EC', 'CO', 'SV', 'BG', 'AU', 'AN', 'BY', 'CD', 'AF', 'KW', 'YE', 'LT', 'BD', 'AI', 'CR', 'TM', 'LV', 'AL', 'NL', 'ID', 'AZ', 'ZW', 'TC', 'GB', 'AT', 'IQ', 'CK', 'IT', 'BR', 'JP', 'SZ', 'DE', 'RO', 'AS', 'HK', 'MA', 'PL', 'CZ', 'PH', 'TL', 'ES', 'BL', 'PT', 'AO', 'VN', 'DZ', 'LY', 'ML', 'OM', 'FR', 'AG', 'CL', 'CY', 'RU', 'PM', 'MX', 'VA', 'SO', 'AR', 'SK', 'IR', 'MK', 'AX', 'GR', 'BE', 'CA', 'US', 'HR', 'KR', 'MD', 'AQ', 'CH', 'CN', 'GM', 'QU', 'PS', 'HU', 'UA', 'TN', 'VE', 'AD', 'TR', 'TH', 'TW', 'SA'} 87\n",
      "75332\n",
      "{'1', '7', '5', 'REVIEW 3', '10', '6', 'REVIEW 4', '9', 'VIDEO PODCASTS', '8', '12', '4', '11', 'REVIEW 2', '2', 'REVIEW 1', '3'} 17\n"
     ]
    }
   ],
   "source": [
    "country_set = set()\n",
    "tCounter = 0\n",
    "unit_set = set()\n",
    "for data_point in data:\n",
    "    country_set.add(data_point['country'])\n",
    "    unit_set.add(data_point['unit'])\n",
    "    if data_point['in_course'] == 't':\n",
    "        tCounter+=1\n",
    "    \n",
    "print (country_set, len(country_set))\n",
    "print (tCounter)\n",
    "print (unit_set, len(unit_set))\n",
    "\n"
   ]
  },
  {
   "cell_type": "markdown",
   "metadata": {},
   "source": [
    "I've just learned, that there are some students, that don't have anything in \"country\" field, so it would be good thing to investigate how many of them, and if is there something odd with these students. It can also be useful to build a dictionary with student: country and see if it can be a way to fix missing pieces of data (maybe some students have country in different entry?). It will be also a good way to find out if very student has only one country (probably should).\n",
    "\n",
    "Also it will be great to know how many students are from each country, since it may be an important variable in the future.\n",
    "\n",
    "There are 81432 entries in data, and majority of them has (75332) has \"in_course\" = \"t\". so there is small number of entries that are without the teacher, but stil a significant one - another thing worth investigating.\n",
    "\n",
    "Since we know all users id by now, maybe it is also a good moment to see how many and what units were completed by each students - so lets create another dictionary with student : [units].\n"
   ]
  },
  {
   "cell_type": "code",
   "execution_count": 37,
   "metadata": {
    "collapsed": false
   },
   "outputs": [
    {
     "name": "stdout",
     "output_type": "stream",
     "text": [
      "OrderedDict([('learner_id', '802'), ('country', ''), ('in_course', 't'), ('unit', '1'), ('avg_score', '0.954'), ('completion', '1'), ('inv_rate', '0')])\n",
      "OrderedDict([('learner_id', '802'), ('country', ''), ('in_course', 't'), ('unit', '2'), ('avg_score', '0.877'), ('completion', '1'), ('inv_rate', '0')])\n",
      "OrderedDict([('learner_id', '802'), ('country', ''), ('in_course', 't'), ('unit', '3'), ('avg_score', '0.883'), ('completion', '0.739'), ('inv_rate', '0')])\n",
      "OrderedDict([('learner_id', '802'), ('country', ''), ('in_course', 't'), ('unit', 'REVIEW 1'), ('avg_score', '0.904'), ('completion', '1'), ('inv_rate', '0.141')])\n",
      "OrderedDict([('learner_id', '802'), ('country', ''), ('in_course', 't'), ('unit', 'VIDEO PODCASTS'), ('avg_score', '0.955'), ('completion', '0.175'), ('inv_rate', '0')])\n",
      "OrderedDict([('learner_id', '5811'), ('country', ''), ('in_course', 't'), ('unit', '1'), ('avg_score', '0.967'), ('completion', '0.3'), ('inv_rate', '0')])\n",
      "OrderedDict([('learner_id', '5811'), ('country', ''), ('in_course', 't'), ('unit', '2'), ('avg_score', '0.611'), ('completion', '0.154'), ('inv_rate', '0')])\n",
      "OrderedDict([('learner_id', '5811'), ('country', ''), ('in_course', 't'), ('unit', '8'), ('avg_score', '0.557'), ('completion', '0.45'), ('inv_rate', '0')])\n",
      "8\n",
      "{'': 8, 'NZ': 94, 'EC': 29, 'CO': 5537, 'SV': 3, 'BG': 46, 'AU': 432, 'AN': 4, 'BY': 121, 'CD': 7, 'AF': 24, 'KW': 14, 'YE': 26, 'LT': 68, 'BD': 1, 'AI': 5, 'CR': 12, 'TM': 48, 'LV': 11, 'AL': 17, 'NL': 831, 'ID': 23, 'AZ': 35, 'ZW': 1, 'TC': 13, 'GB': 96, 'AT': 2, 'IQ': 4, 'CK': 3, 'IT': 1779, 'BR': 24, 'JP': 73, 'SZ': 3, 'DE': 37, 'RO': 218, 'AS': 26, 'HK': 5, 'MA': 10, 'PL': 5925, 'CZ': 464, 'PH': 4, 'TL': 260, 'ES': 8409, 'BL': 10, 'PT': 1, 'AO': 4, 'VN': 12, 'DZ': 5, 'LY': 5, 'ML': 6, 'OM': 856, 'FR': 78, 'AG': 11, 'CL': 8, 'CY': 17, 'RU': 276, 'PM': 2, 'MX': 517, 'VA': 9, 'SO': 18, 'AR': 89, 'SK': 17, 'IR': 3, 'MK': 13, 'AX': 14, 'GR': 23, 'BE': 180, 'CA': 2, 'US': 94, 'HR': 10, 'KR': 58, 'MD': 13, 'AQ': 42, 'CH': 554, 'CN': 233, 'GM': 6, 'QU': 134, 'PS': 16, 'HU': 167, 'UA': 159, 'TN': 16, 'VE': 10, 'AD': 83, 'TR': 52757, 'TH': 29, 'TW': 12, 'SA': 111}\n",
      "0.6478657039001866\n",
      "0.913731702524806\n",
      "[OrderedDict([('learner_id', '1000025'), ('country', 'GB'), ('in_course', 'f'), ('unit', 'VIDEO PODCASTS'), ('avg_score', '0.751'), ('completion', '0.813'), ('inv_rate', '0')]), OrderedDict([('learner_id', '1000319'), ('country', 'AL'), ('in_course', 'f'), ('unit', '6'), ('avg_score', '0.544'), ('completion', '0.286'), ('inv_rate', '0.267')]), OrderedDict([('learner_id', '1000743'), ('country', 'TR'), ('in_course', 'f'), ('unit', '3'), ('avg_score', '0.941'), ('completion', '0.957'), ('inv_rate', '0')]), OrderedDict([('learner_id', '1000743'), ('country', 'TR'), ('in_course', 'f'), ('unit', '4'), ('avg_score', '0.981'), ('completion', '0.476'), ('inv_rate', '0')]), OrderedDict([('learner_id', '1000743'), ('country', 'TR'), ('in_course', 'f'), ('unit', '5'), ('avg_score', '1'), ('completion', '0.304'), ('inv_rate', '0')]), OrderedDict([('learner_id', '1000743'), ('country', 'TR'), ('in_course', 'f'), ('unit', '7'), ('avg_score', '0.918'), ('completion', '1'), ('inv_rate', '0')]), OrderedDict([('learner_id', '1000743'), ('country', 'TR'), ('in_course', 'f'), ('unit', '8'), ('avg_score', '0.998'), ('completion', '0.9'), ('inv_rate', '0')]), OrderedDict([('learner_id', '1000782'), ('country', 'TR'), ('in_course', 'f'), ('unit', '1'), ('avg_score', '1'), ('completion', '1'), ('inv_rate', '0.063')]), OrderedDict([('learner_id', '1000782'), ('country', 'TR'), ('in_course', 'f'), ('unit', '2'), ('avg_score', '1'), ('completion', '1'), ('inv_rate', '0')]), OrderedDict([('learner_id', '1000782'), ('country', 'TR'), ('in_course', 'f'), ('unit', '3'), ('avg_score', '1'), ('completion', '1'), ('inv_rate', '0.04')])]\n"
     ]
    }
   ],
   "source": [
    "mCount = 0;\n",
    "id_and_country = {}\n",
    "\n",
    "country_numbers = {}\n",
    "no_teacher = []\n",
    "\n",
    "student_and_unit = {}\n",
    "\n",
    "for country in country_set:\n",
    "    country_numbers[country] = 0\n",
    "    \n",
    "for student in id_set:\n",
    "    student_and_unit[student] = []\n",
    "\n",
    "for data_point in data:\n",
    "    if data_point['learner_id'] not in id_and_country:\n",
    "        id_and_country[data_point['learner_id']] = data_point['country']\n",
    "    if data_point['learner_id'] in id_and_country:\n",
    "        if id_and_country[data_point['learner_id']] != data_point['country']:\n",
    "            print(\"Student has two different countries\", datapoint['learner_id']) \n",
    "    country_numbers[data_point[\"country\"]]+=1\n",
    "    if data_point['country'] == '':\n",
    "        print(data_point)\n",
    "        mCount +=1\n",
    "    if data_point['in_course'] != 't':\n",
    "        no_teacher.append(data_point)\n",
    "\n",
    "print (mCount)\n",
    "\n",
    "#print (id_and_country['802'])\n",
    "#print (id_and_country['5811'])\n",
    "    \n",
    "print (country_numbers)\n",
    "\n",
    "print (country_numbers['TR']/len(data))\n",
    "\n",
    "print ((country_numbers['TR'] + country_numbers['PL'] + country_numbers['CO'] + country_numbers['ES'] \n",
    "       + country_numbers['IT'])/len(data))\n",
    "    \n",
    "print(no_teacher[0:10])        \n",
    "\n",
    "\n",
    "#    try to find how many units did every student and which ones, maybe sort these?"
   ]
  },
  {
   "cell_type": "markdown",
   "metadata": {},
   "source": [
    "So there are only 8 entries that are missing country, and all of them belong to only two different students. Also, there are no students, that have more than one country. I've also checked if I can fix missing countries from these two students. Unfortunately both tries return a \"key error\" which means there is no chance to reconstruct countries of these two students.\n",
    "\n",
    "It looks like the most of the data comes from Turkey (52727), and it is ver close to 65%. There are also 5925 entries from Poland, 8409 from Spain, and 5537 from Colombia. The only other country with more than 1000 entries is Italy (1779). Entries from these 5 countries are more than 91% of data.\n",
    "\n",
    "I've also looked at some data from students that are not  guided by teachers (\"in_course\" = 'f'), but it could be also good to see if they are only doing units like this, or they sometimes  have \"t\" and sometimes \"f\" here.\n",
    "\n",
    "// next: some plots with entries / countries, student / countries, average units from student from each ocuntry, average entries from teacher and no teacher\n",
    "\n",
    "// teacher vs no_teacher inv_rate, top 5 countries\n"
   ]
  }
 ],
 "metadata": {
  "kernelspec": {
   "display_name": "Python 3",
   "language": "python",
   "name": "python3"
  },
  "language_info": {
   "codemirror_mode": {
    "name": "ipython",
    "version": 3
   },
   "file_extension": ".py",
   "mimetype": "text/x-python",
   "name": "python",
   "nbconvert_exporter": "python",
   "pygments_lexer": "ipython3",
   "version": "3.6.0"
  }
 },
 "nbformat": 4,
 "nbformat_minor": 2
}
